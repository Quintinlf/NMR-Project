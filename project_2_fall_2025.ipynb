{
 "cells": [
  {
   "cell_type": "markdown",
   "id": "f9abba0d",
   "metadata": {},
   "source": [
    "## this is stuff that I had already coded for but didnt present"
   ]
  },
  {
   "cell_type": "code",
   "execution_count": null,
   "id": "7b20fa69",
   "metadata": {},
   "outputs": [],
   "source": [
    "for group_name in unique_groups:\n",
    "    group_peaks = [ppm for ppm, grp in identified_groups if grp == group_name]\n",
    "    print(f\"Simulating group: {group_name}, peaks: {group_peaks}\")\n",
    "    if group_peaks:\n",
    "        if n_spins <= 4:\n",
    "            I = np.eye(2)\n",
    "            sz = np.array([[1, 0], [0, -1]]) / 2\n",
    "            sx = np.array([[0, 1], [1, 0]]) / 2  # Pauli X operator\n",
    "            Iz_ops = []\n",
    "            Ix_ops = []\n",
    "            for i in range(n_spins):\n",
    "                op_z = 1\n",
    "                op_x = 1\n",
    "                for j in range(n_spins):\n",
    "                    op_z = kron(op_z, sz if i == j else I)\n",
    "                    op_x = kron(op_x, sx if i == j else I)\n",
    "                Iz_ops.append(op_z)\n",
    "                Ix_ops.append(op_x)\n",
    "            # Ising (J-coupling) Hamiltonian\n",
    "            H = 0\n",
    "            for i in range(n_spins):\n",
    "                for j in range(i + 1, n_spins):\n",
    "                    J = j_couplings[0] if j_couplings else 7\n",
    "                    H += 2 * np.pi * J * Iz_ops[i] @ Iz_ops[j]\n",
    "            # Add transverse field (X) term for dynamics\n",
    "            Bx = 5  # adjust field strength for more/less mixing\n",
    "            for i in range(n_spins):\n",
    "                H += 2 * np.pi * Bx * Ix_ops[i]\n",
    "            eigvals, eigvecs = np.linalg.eigh(H)\n",
    "            print_quantum_simulation_results(group_name, H, eigvals, eigvecs)\n",
    "\n",
    "            # Animation code for each group\n",
    "            import matplotlib.pyplot as plt\n",
    "            from matplotlib.animation import FuncAnimation\n",
    "            from IPython.display import HTML\n",
    "\n",
    "            psi0 = np.zeros(H.shape[0], dtype=complex)\n",
    "            psi0[0] = 1.0\n",
    "            times = np.linspace(0, 1, 200)\n",
    "            c = np.dot(eigvecs.conj().T, psi0)\n",
    "            def psi_t(t):\n",
    "                phase = np.exp(-1j * eigvals * t)\n",
    "                return np.dot(eigvecs, c * phase)\n",
    "            fig, ax = plt.subplots(figsize=(8, 4))\n",
    "            lines = []\n",
    "            for i in range(H.shape[0]):\n",
    "                (line,) = ax.plot([], [], label=f'State {i}')\n",
    "                lines.append(line)\n",
    "            ax.set_xlim(times[0], times[-1])\n",
    "            ax.set_ylim(0, 1)\n",
    "            ax.set_xlabel('Time')\n",
    "            ax.set_ylabel('Probability')\n",
    "            ax.set_title(f'Spin System Time Evolution: {group_name}')\n",
    "            ax.legend()\n",
    "            def animate(frame):\n",
    "                t = times[frame]\n",
    "                psi = psi_t(t)\n",
    "                for i, line in enumerate(lines):\n",
    "                    line.set_data(times[:frame+1], [np.abs(psi_t(tt)[i])**2 for tt in times[:frame+1]])\n",
    "                return lines\n",
    "            ani = FuncAnimation(fig, animate, frames=len(times), interval=50, blit=True)\n",
    "            plt.show()\n",
    "            display(HTML(ani.to_jshtml()))\n",
    "        "
   ]
  }
 ],
 "metadata": {
  "kernelspec": {
   "display_name": "Python 3",
   "language": "python",
   "name": "python3"
  },
  "language_info": {
   "name": "python",
   "version": "3.13.0"
  }
 },
 "nbformat": 4,
 "nbformat_minor": 5
}
