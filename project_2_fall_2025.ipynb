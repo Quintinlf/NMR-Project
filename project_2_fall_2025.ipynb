{
 "cells": [
  {
   "cell_type": "markdown",
   "id": "f9abba0d",
   "metadata": {},
   "source": [
    "## this is stuff that I had already coded for but didnt present"
   ]
  },
  {
   "cell_type": "markdown",
   "id": "b762f37c",
   "metadata": {},
   "source": []
  }
 ],
 "metadata": {
  "language_info": {
   "name": "python"
  }
 },
 "nbformat": 4,
 "nbformat_minor": 5
}
