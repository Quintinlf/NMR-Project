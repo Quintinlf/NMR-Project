{
 "cells": [
  {
   "cell_type": "markdown",
   "metadata": {},
   "source": [
    "## A brief review/introduction \n",
    "\n",
    "### The FID (Free Induction Decay)\n",
    "is the time-domain signal that contains the sum of all frequencies emitted by the nuclei in the sample. This signal reflects the magnetic moments of the nuclei, and by analyzing these frequencies, we can infer the chemical environment surrounding them. Fourier analysis decomposes this time-domain signal into its frequency components, allowing us to identify molecular structures based on their unique frequency patterns.\n",
    "\n",
    "In essence, the time-domain signal shows how the magnetization of the sample decays over time, and Fourier transforms allow us to map this decay into the frequency domain. The signal can then be processed to isolate the different components, with software like JEOL handling this separation.\n",
    "\n",
    "### My goal:\n",
    "is to create a program that can automate the process of integrating and identifying the components of the sample. I’m thinking of using boolean statements to help detect the individual components. Additionally, I want to explore the relationship between the temperature of the sample and the behavior of the spins, especially under super-chilled conditions. This could offer new insights into the sample’s properties, although I’m still figuring out how to code that.\n",
    "\n",
    "Another area I want to explore is differentiating between positive and negative spins (clockwise vs. counterclockwise). I know this conceptually, but I’d like to incorporate it into the language of the code. Fourier analysis takes the time-domain FID signal, decomposes it into frequency components, and it’s also possible to reverse this process (going from frequency to time domain). Lastly, I plan to smooth out unwanted noise in the signal using discrete Fourier transforms, and eventually explore working in 3D or even 4D, if time permits. Quadrature detection is another consideration, which helps distinguish real versus imaginary components in the Fourier transformation\n",
    "\n",
    "I may even try to incorporate Machine Learning"
   ]
  },
  {
   "cell_type": "markdown",
   "metadata": {},
   "source": [
    "### Steps and thoughts\n",
    "Input Data: Your code will likely start by reading in the raw FID data from a file or a sample. This could be the time-domain data directly from an NMR machine.\n",
    "\n",
    "Fourier Transformation: Using the Fast Fourier Transform (FFT), you can convert the time-domain signal into the frequency domain. This is where the majority of the information about the chemical environment is revealed.\n",
    "\n",
    "Signal Processing: You’ll want to implement signal smoothing and filtering to remove noise and enhance the useful data. For this, you can look into methods like windowing functions or low-pass filters.\n",
    "\n",
    "Peak Detection: Once the data is in the frequency domain, you'll need to identify peaks. These peaks correspond to resonances from different nuclei in the sample. You can apply boolean logic to detect significant peaks and integrate their areas to quantify the components.\n",
    "\n",
    "Spin Differentiation: If you want to detect whether the spins are positive (clockwise) or negative (counterclockwise), you could consider whether the signals are split or shifted in a way that allows this distinction.\n",
    "\n",
    "Temperature Effects: While coding for temperature effects is tricky, you might be able to correlate shifts in the frequency or decay rates with changes in temperature. This could be explored as an additional layer of data processing, where temperature data (if available) is incorporated into your analysis.\n",
    "\n",
    "3D or 4D Visualization: If you want to visualize your results in 3D or 4D, you could use libraries like Matplotlib or Plotly for 3D plots, with the x-axis as frequency, the y-axis as time, and the z-axis as intensity or another metric you’re tracking.\n",
    "\n",
    "Next Steps:\n",
    "Start with a basic FFT implementation to transform the FID into the frequency domain. From there, you can begin working on peak detection and integration.\n",
    "\n",
    "Consider using existing NMR libraries, if they exist, to help speed up your process, especially for data parsing and visualization.\n",
    "\n",
    "Iterate on the spin differentiation—this can be tricky and might require extra signal analysis or understanding the physical phenomena in play."
   ]
  },
  {
   "cell_type": "markdown",
   "metadata": {},
   "source": [
    "# J-coupling and QM"
   ]
  },
  {
   "cell_type": "code",
   "execution_count": null,
   "metadata": {
    "vscode": {
     "languageId": "plaintext"
    }
   },
   "outputs": [],
   "source": [
    "# Define Pauli matrices\n",
    "import numpy as np\n",
    "\n",
    "I = np.eye(2)\n",
    "sx = np.array([[0, 1], [1, 0]]) / 2\n",
    "sy = np.array([[0, -1j], [1j, 0]]) / 2\n",
    "sz = np.array([[1, 0], [0, -1]]) / 2\n",
    "\n",
    "# Zeeman + J-coupling Hamiltonian for two spins\n",
    "delta1 = 1.0  # chemical shift (arbitrary units)\n",
    "delta2 = 2.0\n",
    "J = 0.1       # coupling constant\n",
    "\n",
    "H = (delta1 * np.kron(sz, I) +\n",
    "     delta2 * np.kron(I, sz) +\n",
    "     J * np.kron(sz, sz))"
   ]
  },
  {
   "cell_type": "code",
   "execution_count": null,
   "metadata": {
    "vscode": {
     "languageId": "plaintext"
    }
   },
   "outputs": [],
   "source": [
    "from scipy.linalg import expm\n",
    "\n",
    "def time_evolve(H, psi0, tlist):\n",
    "    \"\"\"Evolve state psi0 under Hamiltonian H for times in tlist.\"\"\"\n",
    "    states = []\n",
    "    for t in tlist:\n",
    "        U = expm(-1j * H * t)\n",
    "        states.append(U @ psi0)\n",
    "    return np.array(states)"
   ]
  },
  {
   "cell_type": "code",
   "execution_count": null,
   "metadata": {
    "vscode": {
     "languageId": "plaintext"
    }
   },
   "outputs": [],
   "source": [
    "# Initial state: spin up\n",
    "psi0 = np.array([1, 0])\n",
    "tlist = np.linspace(0, 0.01, 1000)  # seconds\n",
    "\n",
    "states = time_evolve(H, psi0, tlist)\n",
    "mz = [np.real(np.conj(s) @ sz @ s) for s in states]\n",
    "\n",
    "import matplotlib.pyplot as plt\n",
    "plt.plot(tlist, mz)\n",
    "plt.xlabel(\"Time (s)\")\n",
    "plt.ylabel(\"Magnetization <Sz>\")\n",
    "plt.title(\"Spin-1/2 Precession\")\n",
    "plt.show()"
   ]
  }
 ],
 "metadata": {
  "language_info": {
   "name": "python"
  }
 },
 "nbformat": 4,
 "nbformat_minor": 2
}
