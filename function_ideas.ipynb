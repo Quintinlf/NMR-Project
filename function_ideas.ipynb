{
 "cells": [
  {
   "cell_type": "markdown",
   "metadata": {},
   "source": [
    "### PPM shift\n",
    "Carboxylic acid = 1-12 ppm\n",
    "\n",
    "Aldehyde is 9nto 10 ppm\n",
    "\n",
    "benzene ring is 6.5 to 8.5 ppm\n",
    "\n",
    "a hydrogen on an alkene is 4.5 to 6.5 ppm\n",
    "\n",
    "benzylic carbons are 2 to 2.5 ppm\n",
    "\n",
    "A ch2 on a halogen is 2.5 to 4.5 ppm\n",
    "\n",
    "methyl ketone aka a methyl on a carbonyl is 2 to 2.5 ppm\n",
    "\n",
    "ch is 0.9ppm\n",
    "\n",
    "ch2 is 1.1 ppm\n",
    "\n",
    "ch3 is 1.4 ppm"
   ]
  },
  {
   "cell_type": "code",
   "execution_count": null,
   "metadata": {},
   "outputs": [],
   "source": [
    "def get_ppm_shift(group):\n",
    "    ppm_shifts = {\n",
    "        \"Carboxylic acid\": \"10-12 ppm\",\n",
    "        \"Aldehyde\": \"9 to 10 ppm\",\n",
    "        \"Benzene ring\": \"6.5 to 8.5 ppm\",\n",
    "        \"Hydrogen on an alkene\": \"4.5 to 6.5 ppm\",\n",
    "        \"Benzylic carbons\": \"2 to 2.5 ppm\",\n",
    "        \"CH2 on a halogen\": \"2.5 to 4.5 ppm\",\n",
    "        \"Methyl ketone\": \"2 to 2.5 ppm\",\n",
    "        \"CH\": \"0.9 ppm\",\n",
    "        \"CH2\": \"1.1 ppm\",\n",
    "        \"CH3\": \"1.4 ppm\"\n",
    "    }\n",
    "    return ppm_shifts.get(group, \"Group not found\")"
   ]
  },
  {
   "cell_type": "markdown",
   "metadata": {},
   "source": [
    "# Get signal\n",
    "\n",
    "n+1 rule. \n",
    "\n",
    "Step 1 get skeletal structure of molecule. Then do n+1 rule to see how many signals the thing will give\n"
   ]
  },
  {
   "cell_type": "markdown",
   "metadata": {},
   "source": [
    "### Basic Periodic table info\n",
    "\n",
    "This is just some code I saw on twitter that might have some relevance"
   ]
  },
  {
   "cell_type": "code",
   "execution_count": null,
   "metadata": {},
   "outputs": [],
   "source": [
    "! pip install periodictable"
   ]
  },
  {
   "cell_type": "markdown",
   "metadata": {},
   "source": [
    "This only gives the atomm, not the specific isotope."
   ]
  },
  {
   "cell_type": "code",
   "execution_count": 1,
   "metadata": {},
   "outputs": [
    {
     "ename": "ModuleNotFoundError",
     "evalue": "No module named 'periodictable'",
     "output_type": "error",
     "traceback": [
      "\u001b[1;31m---------------------------------------------------------------------------\u001b[0m",
      "\u001b[1;31mModuleNotFoundError\u001b[0m                       Traceback (most recent call last)",
      "Cell \u001b[1;32mIn[1], line 1\u001b[0m\n\u001b[1;32m----> 1\u001b[0m \u001b[38;5;28;01mimport\u001b[39;00m\u001b[38;5;250m \u001b[39m\u001b[38;5;21;01mperiodictable\u001b[39;00m\n\u001b[0;32m      3\u001b[0m nmr_elements \u001b[38;5;241m=\u001b[39m {\n\u001b[0;32m      4\u001b[0m     \u001b[38;5;124m\"\u001b[39m\u001b[38;5;124m1H\u001b[39m\u001b[38;5;124m\"\u001b[39m: periodictable\u001b[38;5;241m.\u001b[39mH,\n\u001b[0;32m      5\u001b[0m     \u001b[38;5;124m\"\u001b[39m\u001b[38;5;124m13C\u001b[39m\u001b[38;5;124m\"\u001b[39m: periodictable\u001b[38;5;241m.\u001b[39mC,\n\u001b[1;32m   (...)\u001b[0m\n\u001b[0;32m      8\u001b[0m     \u001b[38;5;124m\"\u001b[39m\u001b[38;5;124m19F\u001b[39m\u001b[38;5;124m\"\u001b[39m: periodictable\u001b[38;5;241m.\u001b[39mF\n\u001b[0;32m      9\u001b[0m }\n",
      "\u001b[1;31mModuleNotFoundError\u001b[0m: No module named 'periodictable'"
     ]
    }
   ],
   "source": [
    "import periodictable\n",
    "\n",
    "nmr_elements = {\n",
    "    \"1H\": periodictable.H,\n",
    "    \"13C\": periodictable.C,\n",
    "    \"15N\": periodictable.N,\n",
    "    \"17O\": periodictable.O,\n",
    "    \"19F\": periodictable.F\n",
    "}\n"
   ]
  },
  {
   "cell_type": "code",
   "execution_count": null,
   "metadata": {},
   "outputs": [
    {
     "ename": "",
     "evalue": "",
     "output_type": "error",
     "traceback": [
      "\u001b[1;31mFailed to start the Kernel. \n",
      "\u001b[1;31mUnexpected end of JSON input. \n",
      "\u001b[1;31mView Jupyter <a href='command:jupyter.viewOutput'>log</a> for further details."
     ]
    }
   ],
   "source": [
    "\n",
    "\n",
    "elements = periodictable.elements  # Get all elements\n",
    "elements_list = [element.name for element in elements]\n",
    "elements_list.sort()\n",
    "\n",
    "def print_nmr_relevant_data(element):\n",
    "    print(\"Name:\", element.name)\n",
    "    print(\"Symbol:\", element.symbol)\n",
    "    print(\"Atomic number:\", element.number)\n",
    "    print(\"Atomic weight:\", element.mass)\n",
    "    print(\"Electronegativity:\", element.electronegativity)\n",
    "    print(\"Oxidation states:\", element.oxidation_states)\n",
    "    print(\"Van der Waals radius:\", element.van_der_waals_radius)\n",
    "    print(\"Valence electrons:\", element.valence_electrons)\n",
    "    print(\"Electron configuration:\", element.electron_configuration)\n",
    "\n",
    "print_nmr_relevant_data(carbon13)\n"
   ]
  },
  {
   "cell_type": "markdown",
   "metadata": {},
   "source": [
    "### Gyromagnetic Ratios"
   ]
  },
  {
   "cell_type": "code",
   "execution_count": null,
   "metadata": {},
   "outputs": [],
   "source": [
    "#in MHz/T where T is the magnetic field strength\n",
    "nmr_gyromagnetic_ratio = {\n",
    "    \"1H\": 42.576,\n",
    "    \"13C\": 10.705,\n",
    "    \"15N\": -4.361,\n",
    "    \"17O\": 5.772,\n",
    "}"
   ]
  }
 ],
 "metadata": {
  "kernelspec": {
   "display_name": "Python 3",
   "language": "python",
   "name": "python3"
  },
  "language_info": {
   "codemirror_mode": {
    "name": "ipython",
    "version": 3
   },
   "file_extension": ".py",
   "mimetype": "text/x-python",
   "name": "python",
   "nbconvert_exporter": "python",
   "pygments_lexer": "ipython3",
   "version": "3.13.0"
  }
 },
 "nbformat": 4,
 "nbformat_minor": 2
}
